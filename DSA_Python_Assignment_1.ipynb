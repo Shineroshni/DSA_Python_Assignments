{
  "cells": [
    {
      "cell_type": "code",
      "execution_count": null,
      "metadata": {
        "id": "l92r-i--0_n1"
      },
      "outputs": [],
      "source": [
        "# Quest:1\n",
        "\n",
        "# Grocery Store Bill Calculator\n",
        "# A grocery store wants a program to calculate the total bill for a customer.\n",
        "\n",
        "# a. Store the prices of items in a dictionary (e.g.,{'Apple':10,'Milk':50})\n",
        "# b. Take the items purchased and their quantities as input\n",
        "# c. Calculate and display the total bill amount."
      ]
    },
    {
      "cell_type": "code",
      "execution_count": 20,
      "metadata": {
        "id": "P1WAp3SS_fIG",
        "outputId": "ac9f7469-d2ef-45bb-8698-7c5187a3b0b3",
        "colab": {
          "base_uri": "https://localhost:8080/"
        }
      },
      "outputs": [
        {
          "output_type": "stream",
          "name": "stdout",
          "text": [
            "Enter the item/Enter End to finish: apple\n",
            "Enter the quantity of apple: 6\n",
            "Enter the item/Enter End to finish: orange\n",
            "Item is out of stock\n",
            "Enter the item/Enter End to finish: rice\n",
            "Enter the quantity of rice: 12\n",
            "Enter the item/Enter End to finish: milk\n",
            "Enter the quantity of milk: 4\n",
            "Enter the item/Enter End to finish: end\n",
            "Finish purchase\n",
            "Total_bill: 764\n"
          ]
        }
      ],
      "source": [
        "# Store item prices\n",
        "prices = {\"apple\":10,\"milk\":50,\"curd\":25,\"bread\":40,\"rice\":42}\n",
        "total_bill = 0\n",
        "\n",
        "# Input items and quantities\n",
        "while True:\n",
        "   item = input(\"Enter the item/Enter End to finish: \").lower()\n",
        "   if (item == \"end\"):\n",
        "       print(\"Finish purchase\")\n",
        "       break\n",
        "   if item in prices:\n",
        "       quantity = int(input(f\"Enter the quantity of {item}: \"))\n",
        "       total_bill += prices[item]* quantity\n",
        "   else:\n",
        "       print(\"Item is out of stock\")\n",
        "\n",
        "# Print Total bill\n",
        "print(f\"Total_bill: {total_bill}\")"
      ]
    },
    {
      "cell_type": "code",
      "source": [
        "\n"
      ],
      "metadata": {
        "id": "KjPkA6hNQPwT"
      },
      "execution_count": null,
      "outputs": []
    },
    {
      "cell_type": "code",
      "execution_count": null,
      "metadata": {
        "id": "tX75PZnA-vw-"
      },
      "outputs": [],
      "source": [
        "# Quest:2\n",
        "\n",
        "# Student Grade Calculator\n",
        "# A teacher wants a program to calculate grades for students grades for students based on their mark\n",
        "\n",
        "# a. Store marks for 5 subjects in a list\n",
        "\n",
        "# b. Calculate the average and determine the grade:\n",
        "# 90+   -> A\n",
        "# 70-89 -> B\n",
        "# 50-69 -> C\n",
        "# <50   -> F\n",
        "\n",
        "# c. Dislpay the average and the grade"
      ]
    },
    {
      "cell_type": "code",
      "execution_count": null,
      "metadata": {
        "colab": {
          "base_uri": "https://localhost:8080/"
        },
        "id": "fvlaQdxcP7XT",
        "outputId": "8a95ee90-d5e9-42bf-e42e-97242eec5c0a"
      },
      "outputs": [
        {
          "name": "stdout",
          "output_type": "stream",
          "text": [
            "Marks are: [77, 81, 90, 99, 86]\n",
            "Average mark is: 86.6\n",
            "Your Grade is: B\n"
          ]
        }
      ],
      "source": [
        "# Marks for 5 subjects\n",
        "Marks = [77,81,90,99,86]\n",
        "\n",
        "# Average of Marks\n",
        "Average = sum(Marks)/len(Marks)\n",
        "\n",
        "# Grade Based on Average\n",
        "if (Average>90):\n",
        "  Grade=\"A\"\n",
        "elif (Average>=70):\n",
        "  Grade=\"B\"\n",
        "elif (Average>=50):\n",
        "  Grade=\"C\"\n",
        "else:\n",
        "  Grade=\"F\"\n",
        "\n",
        "print(f\"Marks are: {Marks}\")\n",
        "print(f\"Average mark is: {Average}\")\n",
        "print(f\"Your Grade is: {Grade}\")"
      ]
    },
    {
      "cell_type": "code",
      "source": [],
      "metadata": {
        "id": "1y4KDlF0QSm1"
      },
      "execution_count": null,
      "outputs": []
    },
    {
      "cell_type": "code",
      "execution_count": null,
      "metadata": {
        "id": "QRqhLs6MW_vA"
      },
      "outputs": [],
      "source": [
        "# Quest:3\n",
        "\n",
        "# A movie theatre wants to automate ticket booking for customers.\n",
        "\n",
        "# a. Use a list to store the available seats (eg:, [1,2,3,....20]).\n",
        "# b. Allow the customer to book a seat by entering the seat number.\n",
        "# c. After booking, remove the seat from the list of available seats.\n",
        "# d. Display the remaining available seats."
      ]
    },
    {
      "cell_type": "code",
      "execution_count": 18,
      "metadata": {
        "colab": {
          "base_uri": "https://localhost:8080/"
        },
        "id": "ODlPW-Xh5dwF",
        "outputId": "4395028a-1def-4207-f30f-730baf1cad2c"
      },
      "outputs": [
        {
          "output_type": "stream",
          "name": "stdout",
          "text": [
            "Available seats: [1, 2, 3, 4, 5, 6, 7, 8, 9, 10, 11, 12, 13, 14, 15, 16, 17, 18, 19, 20]\n",
            "Enter a seat number/ Enter 0 to exit: 7\n",
            "You have booked successfully & your seat number is:7\n",
            "Available seats: [1, 2, 3, 4, 5, 6, 8, 9, 10, 11, 12, 13, 14, 15, 16, 17, 18, 19, 20]\n",
            "Enter a seat number/ Enter 0 to exit: 2\n",
            "You have booked successfully & your seat number is:2\n",
            "Available seats: [1, 3, 4, 5, 6, 8, 9, 10, 11, 12, 13, 14, 15, 16, 17, 18, 19, 20]\n",
            "Enter a seat number/ Enter 0 to exit: 0\n",
            "Exit\n"
          ]
        }
      ],
      "source": [
        "# List of available seats\n",
        "\n",
        "Available_seats = [1,2,3,4,5,6,7,8,9,10,11,12,13,14,15,16,17,18,19,20]\n",
        "\n",
        "while True:\n",
        "  print(\"Available seats:\", Available_seats)\n",
        "\n",
        "# Book a seat\n",
        "  Book_seat = int(input(\"Enter a seat number/ Enter 0 to exit: \"))\n",
        "  if Book_seat == 0:\n",
        "    print(\"Exit\")\n",
        "    break  # Exit loop\n",
        "  if Book_seat in Available_seats:\n",
        "    Available_seats.remove(Book_seat) # Remove Booked seat\n",
        "    print(f\"You have booked successfully & your seat number is:{Book_seat}\")\n",
        "  else:\n",
        "    print(f\"seat number {Book_seat} is not available\")\n",
        "  # Remaining seats Available\n",
        "    print(\"Remaining Available seats:\", Available_seats)\n"
      ]
    },
    {
      "cell_type": "code",
      "source": [],
      "metadata": {
        "id": "SM5akxN5QWEc"
      },
      "execution_count": null,
      "outputs": []
    }
  ],
  "metadata": {
    "colab": {
      "provenance": []
    },
    "kernelspec": {
      "display_name": "Python 3",
      "name": "python3"
    },
    "language_info": {
      "name": "python"
    }
  },
  "nbformat": 4,
  "nbformat_minor": 0
}